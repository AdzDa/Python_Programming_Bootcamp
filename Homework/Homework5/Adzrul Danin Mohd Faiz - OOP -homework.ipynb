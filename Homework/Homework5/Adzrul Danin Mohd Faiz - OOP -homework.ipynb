{
 "cells": [
  {
   "cell_type": "markdown",
   "metadata": {},
   "source": [
    "### ![](https://ga-dash.s3.amazonaws.com/production/assets/logo-9f88ae6c9c3871690e33280fcf557f33.png)\n",
    "\n",
    "# Unit 3 Lab: Object-Oriented Programming\n",
    "\n",
    "## Overview\n",
    "\n",
    "Welcome to the Unit 3 lab! Now that we've learned some new data structures, let's put them to use in our weather forecasting application.\n",
    "\n",
    "### Goals\n",
    "\n",
    "In this lab, you will:\n",
    "\n",
    "- Write and use complex data types to organize weather data efficiently.\n",
    "- Write classes and methods to calculate and display the weather forecast.\n",
    "\n",
    "\n",
    "---"
   ]
  },
  {
   "cell_type": "markdown",
   "metadata": {},
   "source": [
    "### Restructuring Data\n",
    "\n",
    "Suppose we want to offer the user the opportunity to select the temperature scale in which they view their weather forecast. Create a variable, `temperature_scale`, that is a `set` with the following strings: \n",
    "\n",
    "- \"Fahrenheit\"\n",
    "- \"Celsius\"\n",
    "- \"Kelvin\"\n",
    "\n",
    "Print the variable `temperature_scale`."
   ]
  },
  {
   "cell_type": "code",
   "execution_count": 20,
   "metadata": {},
   "outputs": [
    {
     "name": "stdout",
     "output_type": "stream",
     "text": [
      "{'Kelvin', 'Fahrenheit', 'Celsius'} \n",
      "\n",
      "Kelvin\n"
     ]
    }
   ],
   "source": [
    "# Enter your code below:\n",
    "\n",
    "temperature_scale = {\"Fahrenheit\", \"Celsius\", \"Kelvin\"}\n",
    "print(temperature_scale, \"\\n\")\n",
    "\n",
    "\n",
    "unit_chosen = input(\"Please enter your desired temperature unit(Farenheit/ Celsius/ Kelvin): \")\n",
    "\n",
    "if unit_chosen.capitalize() in temperature_scale:\n",
    "    print(unit_chosen.capitalize())\n",
    "else:\n",
    "    print(\"No such Unit!!\")"
   ]
  },
  {
   "cell_type": "markdown",
   "metadata": {},
   "source": [
    "Weather data is typically taken and recorded every hour. Let's combine the following lists into a single, table-like structure of data we can review.\n",
    "\n",
    "Create a list called `weather_data`. This list will be composed of dictionary objects for each hour over a 24-hour span. Each of the dictionaries should have the following four keys: `\"hour\"`, `\"temperature\"`, `\"humidity\"`, and `\"rainfall\"`. Begin counting at hour `0` and end at hour `23`.\n",
    "\n",
    "Then, iterate through `weather_data` and print out each dictionary — one dictionary per line."
   ]
  },
  {
   "cell_type": "code",
   "execution_count": 30,
   "metadata": {},
   "outputs": [],
   "source": [
    "one_day_of_hourly_temperatures = [67,67,68,69,71,73,75,76,79,81,81,80,82,81,81,80,78,75,72,70,67,65,66,66]\n",
    "one_day_of_hourly_humidity = [60,65,65,70,70,70,70,75,75,75,75,80,80,85,85,85,85,80,80,80,80,80,80,80]\n",
    "one_day_of_hourly_rainfall = [0,0,0,0.1,0.1,0.05,0.1,0.15,0.2,0.3,0.3,0.5,0,0,0,0,0,0,0,0,0,0,0,0]\n",
    "\n",
    "# Enter your code below:\n",
    "weather_data = []\n",
    "\n",
    "#data taken every hour\n",
    "for hr in range(24):     #24hr/ day ---> range(25)= 1 to 24\n",
    "    #reassigning each values from above lists in form of dictionary\n",
    "    #key_name were given\n",
    "    data_taken = {\n",
    "        \"hour\": hr+1,\n",
    "        \"temperature\": one_day_of_hourly_temperatures[hr],\n",
    "        \"humidity\": one_day_of_hourly_humidity[hr],\n",
    "        \"rainfall\": one_day_of_hourly_rainfall[hr]\n",
    "    }\n",
    "    weather_data.append(data_taken)\n",
    "    # print(weather_data)"
   ]
  },
  {
   "cell_type": "code",
   "execution_count": 31,
   "metadata": {},
   "outputs": [
    {
     "name": "stdout",
     "output_type": "stream",
     "text": [
      "24\n",
      "24\n",
      "24\n"
     ]
    }
   ],
   "source": [
    "print(len(one_day_of_hourly_humidity))\n",
    "print(len(one_day_of_hourly_rainfall))\n",
    "print(len(one_day_of_hourly_temperatures))"
   ]
  },
  {
   "cell_type": "code",
   "execution_count": 32,
   "metadata": {},
   "outputs": [
    {
     "name": "stdout",
     "output_type": "stream",
     "text": [
      "[{'hour': 1, 'temperature': 67, 'humidity': 60, 'rainfall': 0}, {'hour': 2, 'temperature': 67, 'humidity': 65, 'rainfall': 0}, {'hour': 3, 'temperature': 68, 'humidity': 65, 'rainfall': 0}, {'hour': 4, 'temperature': 69, 'humidity': 70, 'rainfall': 0.1}, {'hour': 5, 'temperature': 71, 'humidity': 70, 'rainfall': 0.1}, {'hour': 6, 'temperature': 73, 'humidity': 70, 'rainfall': 0.05}, {'hour': 7, 'temperature': 75, 'humidity': 70, 'rainfall': 0.1}, {'hour': 8, 'temperature': 76, 'humidity': 75, 'rainfall': 0.15}, {'hour': 9, 'temperature': 79, 'humidity': 75, 'rainfall': 0.2}, {'hour': 10, 'temperature': 81, 'humidity': 75, 'rainfall': 0.3}, {'hour': 11, 'temperature': 81, 'humidity': 75, 'rainfall': 0.3}, {'hour': 12, 'temperature': 80, 'humidity': 80, 'rainfall': 0.5}, {'hour': 13, 'temperature': 82, 'humidity': 80, 'rainfall': 0}, {'hour': 14, 'temperature': 81, 'humidity': 85, 'rainfall': 0}, {'hour': 15, 'temperature': 81, 'humidity': 85, 'rainfall': 0}, {'hour': 16, 'temperature': 80, 'humidity': 85, 'rainfall': 0}, {'hour': 17, 'temperature': 78, 'humidity': 85, 'rainfall': 0}, {'hour': 18, 'temperature': 75, 'humidity': 80, 'rainfall': 0}, {'hour': 19, 'temperature': 72, 'humidity': 80, 'rainfall': 0}, {'hour': 20, 'temperature': 70, 'humidity': 80, 'rainfall': 0}, {'hour': 21, 'temperature': 67, 'humidity': 80, 'rainfall': 0}, {'hour': 22, 'temperature': 65, 'humidity': 80, 'rainfall': 0}, {'hour': 23, 'temperature': 66, 'humidity': 80, 'rainfall': 0}, {'hour': 24, 'temperature': 66, 'humidity': 80, 'rainfall': 0}]\n"
     ]
    }
   ],
   "source": [
    "print(weather_data) # This is how it should look "
   ]
  },
  {
   "cell_type": "code",
   "execution_count": 33,
   "metadata": {},
   "outputs": [
    {
     "name": "stdout",
     "output_type": "stream",
     "text": [
      "{'hour': 1, 'temperature': 67, 'humidity': 60, 'rainfall': 0}\n",
      "{'hour': 2, 'temperature': 67, 'humidity': 65, 'rainfall': 0}\n",
      "{'hour': 3, 'temperature': 68, 'humidity': 65, 'rainfall': 0}\n",
      "{'hour': 4, 'temperature': 69, 'humidity': 70, 'rainfall': 0.1}\n",
      "{'hour': 5, 'temperature': 71, 'humidity': 70, 'rainfall': 0.1}\n",
      "{'hour': 6, 'temperature': 73, 'humidity': 70, 'rainfall': 0.05}\n",
      "{'hour': 7, 'temperature': 75, 'humidity': 70, 'rainfall': 0.1}\n",
      "{'hour': 8, 'temperature': 76, 'humidity': 75, 'rainfall': 0.15}\n",
      "{'hour': 9, 'temperature': 79, 'humidity': 75, 'rainfall': 0.2}\n",
      "{'hour': 10, 'temperature': 81, 'humidity': 75, 'rainfall': 0.3}\n",
      "{'hour': 11, 'temperature': 81, 'humidity': 75, 'rainfall': 0.3}\n",
      "{'hour': 12, 'temperature': 80, 'humidity': 80, 'rainfall': 0.5}\n",
      "{'hour': 13, 'temperature': 82, 'humidity': 80, 'rainfall': 0}\n",
      "{'hour': 14, 'temperature': 81, 'humidity': 85, 'rainfall': 0}\n",
      "{'hour': 15, 'temperature': 81, 'humidity': 85, 'rainfall': 0}\n",
      "{'hour': 16, 'temperature': 80, 'humidity': 85, 'rainfall': 0}\n",
      "{'hour': 17, 'temperature': 78, 'humidity': 85, 'rainfall': 0}\n",
      "{'hour': 18, 'temperature': 75, 'humidity': 80, 'rainfall': 0}\n",
      "{'hour': 19, 'temperature': 72, 'humidity': 80, 'rainfall': 0}\n",
      "{'hour': 20, 'temperature': 70, 'humidity': 80, 'rainfall': 0}\n",
      "{'hour': 21, 'temperature': 67, 'humidity': 80, 'rainfall': 0}\n",
      "{'hour': 22, 'temperature': 65, 'humidity': 80, 'rainfall': 0}\n",
      "{'hour': 23, 'temperature': 66, 'humidity': 80, 'rainfall': 0}\n",
      "{'hour': 24, 'temperature': 66, 'humidity': 80, 'rainfall': 0}\n"
     ]
    }
   ],
   "source": [
    "# then, iterate through weather_data and print out each dictionary — one dictionary per line.\n",
    "#loop weather_data & print each dictionary( one dictionary/ line)\n",
    "for data_taken in weather_data:\n",
    "    print(data_taken)"
   ]
  },
  {
   "cell_type": "markdown",
   "metadata": {},
   "source": [
    "Using your `weather_data` list, print the following with one line of code for each `print` statement: \n",
    "- Temperature at 2 p.m.\n",
    "- Humidity at 11 p.m.\n",
    "- Rainfall at 9 a.m."
   ]
  },
  {
   "cell_type": "code",
   "execution_count": 35,
   "metadata": {},
   "outputs": [
    {
     "name": "stdout",
     "output_type": "stream",
     "text": [
      "81\n",
      "80\n",
      "0.2\n"
     ]
    }
   ],
   "source": [
    "# Enter your code below:\n",
    "#index = hr-1\n",
    "#if using 24hr system:\n",
    "    # 2pm: 1400 or 14hr\n",
    "    # 11pm: 2300 or 23hr\n",
    "    # 9am: 0900 or 9hr\n",
    "\n",
    "print(weather_data[13][\"temperature\"])"
   ]
  },
  {
   "cell_type": "code",
   "execution_count": 36,
   "metadata": {},
   "outputs": [
    {
     "name": "stdout",
     "output_type": "stream",
     "text": [
      "80\n"
     ]
    }
   ],
   "source": [
    "print(weather_data[22][\"humidity\"])"
   ]
  },
  {
   "cell_type": "code",
   "execution_count": 37,
   "metadata": {},
   "outputs": [
    {
     "name": "stdout",
     "output_type": "stream",
     "text": [
      "0.2\n"
     ]
    }
   ],
   "source": [
    "print(weather_data[8][\"rainfall\"])"
   ]
  },
  {
   "cell_type": "markdown",
   "metadata": {},
   "source": [
    "---\n",
    "### Creating a `Forecast` Class\n",
    "\n",
    "Start by creating a `Forecast` class that accepts one argument, `location`, and assigns it as an instance attribute to `self.location`."
   ]
  },
  {
   "cell_type": "code",
   "execution_count": 39,
   "metadata": {},
   "outputs": [],
   "source": [
    "# Enter your code below:\n",
    "\n",
    "class Forecast:\n",
    "\n",
    "    def __init__(self, location = \"\"):\n",
    "        self.location = location"
   ]
  },
  {
   "cell_type": "markdown",
   "metadata": {},
   "source": [
    "---\n",
    "### Calculation Methods\n",
    "\n",
    "Create two methods within the `Forecast` class:\n",
    "\n",
    "- `get_daily_high()`\n",
    "- `get_daily_low()`\n",
    "\n",
    "Use the built-in `max()` and `min()` functions on `one_day_of_hourly_temperatures` to return the daily high and low temperatures.\n",
    "\n",
    "Create a third method within the `Forecast` class called `get_daily_chance_of_rain()`. This method should:\n",
    "- Create a variable named `number_of_years_of_data` and set it to `10`.\n",
    "- Create a variable named `times_it_has_rained` and set it to `0`.\n",
    "- Calculate the sum of rainfall for all 24 hours of `one_day_of_hourly_temperatures`.\n",
    "  - If the sum of all 24 hours is greater than 0, increase `times_it_has_rained` by 1.\n",
    "  - Convert `times_it_has_rained` to a percentage by dividing it by `number_of_years_of_data` and multiplying it by 100.\n",
    "  - Return the final value.\n",
    "\n",
    "_Note: We'll modify these three methods to process live data in future labs. For now, we're setting up the basic logic on test data._"
   ]
  },
  {
   "cell_type": "code",
   "execution_count": 52,
   "metadata": {
    "collapsed": true
   },
   "outputs": [],
   "source": [
    "# Copy and paste the Forecast class you built in the previous cell and add the new features to it below:\n",
    "one_day_of_hourly_temperatures = [67,67,68,69,71,73,75,76,79,81,81,80,82,81,81,80,78,75,72,70,67,65,66,66]\n",
    "one_day_of_hourly_humidity = [60,65,65,70,70,70,70,75,75,75,75,80,80,85,85,85,85,80,80,80,80,80,80,80]\n",
    "one_day_of_hourly_rainfall = [0,0,0,0.1,0.1,0.05,0.1,0.15,0.2,0.3,0.3,0.5,0,0,0,0,0,0,0,0,0,0,0,0]\n",
    "\n",
    "class Forecast:\n",
    "\n",
    "    def __init__(self, location = \"\"):\n",
    "        self.location = location\n",
    "\n",
    "    def get_daily_high(self):\n",
    "        daily_highest_temperature = max(one_day_of_hourly_temperatures)\n",
    "        return daily_highest_temperature\n",
    "        \n",
    "    def get_daily_low(self):\n",
    "        daily_lowest_temperature = min(one_day_of_hourly_temperatures)\n",
    "        return daily_lowest_temperature\n",
    "\n",
    "    def get_daily_chance_of_rain(self, ):\n",
    "        number_of_years_of_data = 10\n",
    "        times_it_has_rained  = 0\n",
    "        sum_of_rainfall = sum(one_day_of_hourly_rainfall)\n",
    "\n",
    "        if sum_of_rainfall > 0:\n",
    "            times_it_has_rained += 1\n",
    "            times_it_has_rained = (times_it_has_rained / number_of_years_of_data) * 100\n",
    "            return times_it_has_rained\n",
    "        \n",
    "        else:\n",
    "            print(\"the summation of rainfall is less than zero\")\n",
    "        \n",
    "        "
   ]
  },
  {
   "cell_type": "markdown",
   "metadata": {},
   "source": [
    "Run the following cell after you're finished to test your output:"
   ]
  },
  {
   "cell_type": "code",
   "execution_count": 53,
   "metadata": {
    "collapsed": true
   },
   "outputs": [
    {
     "name": "stdout",
     "output_type": "stream",
     "text": [
      "High: 82\n",
      "Low: 65\n",
      "Chance of Rain: 10.0 %\n"
     ]
    }
   ],
   "source": [
    "test = Forecast(\"Austin,TX\")\n",
    "print(\"High:\", test.get_daily_high())\n",
    "print(\"Low:\", test.get_daily_low())\n",
    "print(\"Chance of Rain:\", test.get_daily_chance_of_rain(),'%')"
   ]
  },
  {
   "cell_type": "markdown",
   "metadata": {},
   "source": [
    "---\n",
    "### Display Methods \n",
    "\n",
    "Back in Lab 1, we printed `\"The weather forecast for today is: High of 85, low of 69, with a 15.0% chance of precipitation.\"` using the four following variables and the values we assigned to them: \n",
    "\n",
    "- `message_to_user`\n",
    "- `todays_high`\n",
    "- `todays_low`\n",
    "- `chance_of_precipitation`\n",
    "\n",
    "Now, we're going to display this same message but with the calculated values from the methods we just created.\n",
    "\n",
    "Create a `display_daily_forecast()` method within the `Forecast` class that, when called, will print out a string matching the one above.\n",
    "\n",
    "This method will insert the high temperature, low temperature, and chance of rain by calling the following internal class methods, respectively:\n",
    "\n",
    "- `get_daily_high()`\n",
    "- `get_daily_low()`\n",
    "- `get_daily_chance_of_rain()`\n",
    "\n",
    "\n",
    "Next, create a `display_weekly_forecast()` method within the `Forecast` class:\n",
    "  - When called, this method will print out a message in the format shown in the code block below.\n",
    "  - _Note: We only have one day of data we're currently using, so `High`, `Low`, and `Rain` will all be the same for now._\n",
    "  \n",
    "```\n",
    "This week's weather forecast:             \n",
    "    Monday:    High 82, Low 65, Rain 10.0%            \n",
    "    Tuesday:   High 82, Low 65, Rain 10.0%            \n",
    "    Wednesday: High 82, Low 65, Rain 10.0%            \n",
    "    Thursday:  High 82, Low 65, Rain 10.0%            \n",
    "    Friday:    High 82, Low 65, Rain 10.0%            \n",
    "    Saturday:  High 82, Low 65, Rain 10.0%            \n",
    "    Sunday:    High 82, Low 65, Rain 10.0%\n",
    "```\n",
    "\n",
    "_Hint: Use `\\n` to create new lines in your `print` statement (i.e., `print(\"First line\\nSecond line\")`)._\n",
    "\n",
    "_Hint: Use `\\t` to simulate a tab character in your `print` statement (i.e., `print(\"First Column\\tSecond Column\")`._\n",
    "\n",
    "_Bonus: Convert class methods that are internally called to private methods via the use of the `'underscore'`, `__method_name`._"
   ]
  },
  {
   "cell_type": "code",
   "execution_count": 89,
   "metadata": {
    "collapsed": true
   },
   "outputs": [],
   "source": [
    "# Copy and paste the Forecast class you built in the previous cell and add the new features to it below:\n",
    "one_day_of_hourly_temperatures = [67,67,68,69,71,73,75,76,79,81,81,80,82,81,81,80,78,75,72,70,67,65,66,66]\n",
    "one_day_of_hourly_humidity = [60,65,65,70,70,70,70,75,75,75,75,80,80,85,85,85,85,80,80,80,80,80,80,80]\n",
    "one_day_of_hourly_rainfall = [0,0,0,0.1,0.1,0.05,0.1,0.15,0.2,0.3,0.3,0.5,0,0,0,0,0,0,0,0,0,0,0,0]\n",
    "\n",
    "class Forecast:\n",
    "\n",
    "    def __init__(self, location = \"\"):\n",
    "        self.location = location\n",
    "\n",
    "    def get_daily_high(self):\n",
    "        daily_highest_temperature = max(one_day_of_hourly_temperatures)\n",
    "        return daily_highest_temperature\n",
    "        \n",
    "    def get_daily_low(self):\n",
    "        daily_lowest_temperature = min(one_day_of_hourly_temperatures)\n",
    "        return daily_lowest_temperature\n",
    "\n",
    "    def get_daily_chance_of_rain(self):\n",
    "        number_of_years_of_data = 10\n",
    "        times_it_has_rained  = 0\n",
    "        sum_of_rainfall = sum(one_day_of_hourly_rainfall)\n",
    "\n",
    "        if sum_of_rainfall > 0:\n",
    "            times_it_has_rained += 1\n",
    "            times_it_has_rained = (times_it_has_rained / number_of_years_of_data) * 100\n",
    "            return times_it_has_rained\n",
    "        \n",
    "        else:\n",
    "            print(\"the summation of rainfall is less than zero\")\n",
    "\n",
    "    def display_daily_forecast(self):\n",
    "        a = self.get_daily_high()\n",
    "        b = self.get_daily_low()\n",
    "        c = self.get_daily_chance_of_rain()\n",
    "\n",
    "        days = [\"Monday\", \"Tuesday\", \"Wednesday\", \"Thursday\", \"Friday\", \"Saturday\", \"Sunday\"]\n",
    "        print(\"This week's weather forecast:\")\n",
    "        for day in days:\n",
    "        # #Same data used for entire days\n",
    "            print(f\"\\t {day}: \\t High {a}, Low {b}, Rain {c}%\")"
   ]
  },
  {
   "cell_type": "markdown",
   "metadata": {},
   "source": [
    "Run the following cell after you're finished to test your output:"
   ]
  },
  {
   "cell_type": "code",
   "execution_count": 90,
   "metadata": {
    "collapsed": true,
    "scrolled": true
   },
   "outputs": [
    {
     "name": "stdout",
     "output_type": "stream",
     "text": [
      "This week's weather forecast:\n",
      "\t Monday: \t High 82, Low 65, Rain 10.0%\n",
      "\t Tuesday: \t High 82, Low 65, Rain 10.0%\n",
      "\t Wednesday: \t High 82, Low 65, Rain 10.0%\n",
      "\t Thursday: \t High 82, Low 65, Rain 10.0%\n",
      "\t Friday: \t High 82, Low 65, Rain 10.0%\n",
      "\t Saturday: \t High 82, Low 65, Rain 10.0%\n",
      "\t Sunday: \t High 82, Low 65, Rain 10.0%\n"
     ]
    }
   ],
   "source": [
    "test1 = Forecast(\"Austin,TX\")\n",
    "test1.display_daily_forecast()\n",
    "# test.display_weekly_forecast()"
   ]
  },
  {
   "cell_type": "markdown",
   "metadata": {},
   "source": [
    "### Nice work!"
   ]
  },
  {
   "cell_type": "code",
   "execution_count": 93,
   "metadata": {},
   "outputs": [
    {
     "name": "stdout",
     "output_type": "stream",
     "text": [
      "This week's weather forecast:\n",
      "\t Monday: \t High 82, Low 65, Rain 10.0%\n",
      "\t Tuesday: \t High 82, Low 65, Rain 10.0%\n",
      "\t Wednesday: \t High 82, Low 65, Rain 10.0%\n",
      "\t Thursday: \t High 82, Low 65, Rain 10.0%\n",
      "\t Friday: \t High 82, Low 65, Rain 10.0%\n",
      "\t Saturday: \t High 82, Low 65, Rain 10.0%\n",
      "\t Sunday: \t High 82, Low 65, Rain 10.0%\n"
     ]
    }
   ],
   "source": [
    "# Bonus?\n",
    "# Convert class methods that are internally called to private methods \n",
    "\n",
    "one_day_of_hourly_temperatures = [67,67,68,69,71,73,75,76,79,81,81,80,82,81,81,80,78,75,72,70,67,65,66,66]\n",
    "one_day_of_hourly_humidity = [60,65,65,70,70,70,70,75,75,75,75,80,80,85,85,85,85,80,80,80,80,80,80,80]\n",
    "one_day_of_hourly_rainfall = [0,0,0,0.1,0.1,0.05,0.1,0.15,0.2,0.3,0.3,0.5,0,0,0,0,0,0,0,0,0,0,0,0]\n",
    "\n",
    "class Forecast:\n",
    "\n",
    "    def __init__(self, location = \"\"):\n",
    "        self.location = location\n",
    "\n",
    "    def __get_daily_high(self):\n",
    "        daily_highest_temperature = max(one_day_of_hourly_temperatures)\n",
    "        return daily_highest_temperature\n",
    "        \n",
    "    def __get_daily_low(self):\n",
    "        daily_lowest_temperature = min(one_day_of_hourly_temperatures)\n",
    "        return daily_lowest_temperature\n",
    "\n",
    "    def __get_daily_chance_of_rain(self):\n",
    "        number_of_years_of_data = 10\n",
    "        times_it_has_rained  = 0\n",
    "        sum_of_rainfall = sum(one_day_of_hourly_rainfall)\n",
    "\n",
    "        if sum_of_rainfall > 0:\n",
    "            times_it_has_rained += 1\n",
    "            times_it_has_rained = (times_it_has_rained / number_of_years_of_data) * 100\n",
    "            return times_it_has_rained\n",
    "        \n",
    "        else:\n",
    "            print(\"the summation of rainfall is less than zero\")\n",
    "\n",
    "    def display_daily_forecast(self):\n",
    "        a = self.__get_daily_high()\n",
    "        b = self.__get_daily_low()\n",
    "        c = self.__get_daily_chance_of_rain()\n",
    "\n",
    "        days = [\"Monday\", \"Tuesday\", \"Wednesday\", \"Thursday\", \"Friday\", \"Saturday\", \"Sunday\"]\n",
    "        print(\"This week's weather forecast:\")\n",
    "        for day in days:\n",
    "        # #Same data used for entire days\n",
    "            print(f\"\\t {day}: \\t High {a}, Low {b}, Rain {c}%\")\n",
    "\n",
    "test1 = Forecast(\"Austin,TX\")\n",
    "test1.display_daily_forecast()"
   ]
  }
 ],
 "metadata": {
  "kernelspec": {
   "display_name": "Python 3",
   "language": "python",
   "name": "python3"
  },
  "language_info": {
   "codemirror_mode": {
    "name": "ipython",
    "version": 3
   },
   "file_extension": ".py",
   "mimetype": "text/x-python",
   "name": "python",
   "nbconvert_exporter": "python",
   "pygments_lexer": "ipython3",
   "version": "3.11.5"
  }
 },
 "nbformat": 4,
 "nbformat_minor": 2
}
